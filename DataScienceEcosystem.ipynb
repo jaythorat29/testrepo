{
 "cells": [
  {
   "cell_type": "markdown",
   "id": "ad716ce1-1fdb-48ff-868a-e8ef9e2a1dd3",
   "metadata": {
    "tags": []
   },
   "source": [
    "# Data Science Tools and Ecosystem"
   ]
  },
  {
   "cell_type": "markdown",
   "id": "b931c0ed-87e2-49cb-a36b-b78f875e85f8",
   "metadata": {},
   "source": [
    "*In this notebook, Data Science Tools and Ecosystem are summarized.*"
   ]
  },
  {
   "cell_type": "markdown",
   "id": "bb9db9f9-f597-4bb5-a5db-2da768082088",
   "metadata": {},
   "source": [
    "**Objectives:**\n",
    "\n",
    "- List Of Popular LAnguages used in Data Science\n",
    "- Commonly used libraries in Data science\n",
    "- Open Source tools used for Data Science\n",
    "- Example of tic expression in Python\n",
    "    "
   ]
  },
  {
   "cell_type": "markdown",
   "id": "4be7358f-35da-4baa-a50a-ff36204b5c91",
   "metadata": {},
   "source": [
    "## Some of the popular languages that Data Scientists use are:\n",
    "1. Python\n",
    "2. R\n",
    "3. SQL\n",
    "4. C"
   ]
  },
  {
   "cell_type": "markdown",
   "id": "4b92335e-e7e6-471c-add4-0d53baeaf7fe",
   "metadata": {},
   "source": [
    "### Some of the commonly used libraries used by Data Scientists include:\n",
    "\n",
    "- visualization Libraries\n",
    "- Scientific Computing Libraries\n",
    "- High Level Machine Learning Libraries"
   ]
  },
  {
   "cell_type": "markdown",
   "id": "6a168206-8e2f-4df9-95f6-1254811d14aa",
   "metadata": {},
   "source": [
    "|Data Science Tools|\n",
    "|------------------|\n",
    "| Git |\n",
    "| SQL |\n",
    "| Apache Atlas |"
   ]
  },
  {
   "cell_type": "markdown",
   "id": "376cf431-b6b7-41f4-a739-9970d29278d5",
   "metadata": {},
   "source": [
    "### Below are a few examples of evaluating arithmetic expressions in Python\n",
    "\n",
    "a = 5\n",
    "b = 10\n",
    "c = a*b\n",
    "print(c)"
   ]
  },
  {
   "cell_type": "markdown",
   "id": "c1bba91b-ed0b-42fc-a831-da3034b53557",
   "metadata": {},
   "source": [
    "*This a simple arithmetic expression to mutiply then add integers*\n"
   ]
  },
  {
   "cell_type": "code",
   "execution_count": 13,
   "id": "7bdec909-1bd1-4cef-a812-5a1983a3c0dd",
   "metadata": {},
   "outputs": [
    {
     "data": {
      "text/plain": [
       "17"
      ]
     },
     "execution_count": 13,
     "metadata": {},
     "output_type": "execute_result"
    }
   ],
   "source": [
    "(3*4)+5"
   ]
  },
  {
   "cell_type": "markdown",
   "id": "e57de148-a577-4431-a714-dd97420d9d54",
   "metadata": {},
   "source": [
    "*This will convert 200 minutes to hours by diving by 60*"
   ]
  },
  {
   "cell_type": "code",
   "execution_count": 15,
   "id": "260a5f8d-26a7-4238-a06f-775763ced440",
   "metadata": {},
   "outputs": [
    {
     "data": {
      "text/plain": [
       "3.3333333333333335"
      ]
     },
     "execution_count": 15,
     "metadata": {},
     "output_type": "execute_result"
    }
   ],
   "source": [
    "200/60"
   ]
  },
  {
   "cell_type": "markdown",
   "id": "772862ba-6504-4473-8e76-01232aa45869",
   "metadata": {},
   "source": [
    "## Author\n",
    "Jay Thorat"
   ]
  },
  {
   "cell_type": "code",
   "execution_count": null,
   "id": "f8fda93f-f95c-4230-b966-b426fa367a2f",
   "metadata": {},
   "outputs": [],
   "source": []
  }
 ],
 "metadata": {
  "kernelspec": {
   "display_name": "Python",
   "language": "python",
   "name": "conda-env-python-py"
  },
  "language_info": {
   "codemirror_mode": {
    "name": "ipython",
    "version": 3
   },
   "file_extension": ".py",
   "mimetype": "text/x-python",
   "name": "python",
   "nbconvert_exporter": "python",
   "pygments_lexer": "ipython3",
   "version": "3.7.12"
  }
 },
 "nbformat": 4,
 "nbformat_minor": 5
}
